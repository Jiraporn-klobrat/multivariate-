{
  "nbformat": 4,
  "nbformat_minor": 0,
  "metadata": {
    "colab": {
      "name": "Function_Numpy_Pandas.ipynb",
      "provenance": [],
      "include_colab_link": true
    },
    "kernelspec": {
      "name": "python3",
      "display_name": "Python 3"
    }
  },
  "cells": [
    {
      "cell_type": "markdown",
      "metadata": {
        "id": "view-in-github",
        "colab_type": "text"
      },
      "source": [
        "<a href=\"https://colab.research.google.com/github/Jiraporn-klobrat/multivariate-/blob/main/Function_Numpy_Pandas.ipynb\" target=\"_parent\"><img src=\"https://colab.research.google.com/assets/colab-badge.svg\" alt=\"Open In Colab\"/></a>"
      ]
    },
    {
      "cell_type": "markdown",
      "metadata": {
        "id": "Rxcknq__SnVl"
      },
      "source": [
        "#Function"
      ]
    },
    {
      "cell_type": "markdown",
      "metadata": {
        "id": "qvYP8PSXSsUj"
      },
      "source": [
        "เอารูปมาใส่![1 (1).jpg](data:image/jpeg;base64,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)"
      ]
    },
    {
      "cell_type": "markdown",
      "metadata": {
        "id": "YgLw7TnvS6_p"
      },
      "source": [
        "```python\r\n",
        "def function_name(_Input_):\r\n",
        "     do_something with _Input_ to produce _Output_\r\n",
        "     return _Output_\r\n",
        "```"
      ]
    },
    {
      "cell_type": "markdown",
      "metadata": {
        "id": "I8keo4eMUfzA"
      },
      "source": [
        "function มีส่วนสำคัญทั้งหมด 4 ส่วน\r\n",
        "\r\n",
        "    1. บอก python ว่าเราจะเขียนฟังก์ชั่น ชื่ออะไร def function_name(): (ขาดไม่ได้) \r\n",
        "    2. กำหนดตัวแปรที่จะเป็น input Input (ขาดไม่ได้)\r\n",
        "    3. ส่วนประมวลผล do_something with Input to get Output (ขาดไม่ได้)\r\n",
        "    4. ส่วน output return Output (ขาดไม่ได้)"
      ]
    },
    {
      "cell_type": "markdown",
      "metadata": {
        "id": "NyKh_4DeWPN0"
      },
      "source": [
        "### สร้างฟังก์ชั่น"
      ]
    },
    {
      "cell_type": "code",
      "metadata": {
        "colab": {
          "base_uri": "https://localhost:8080/"
        },
        "id": "DI5iKEQ2SWKd",
        "outputId": "5fc7b9a5-0703-4322-bfed-6fc88a230a16"
      },
      "source": [
        "def print_name(name,surname,ID):\r\n",
        "     st = f'ชื่อ {name} นามสกุล {surname} ID {ID}'\r\n",
        "     return st\r\n",
        "print('outside function')"
      ],
      "execution_count": 16,
      "outputs": [
        {
          "output_type": "stream",
          "text": [
            "outside function\n"
          ],
          "name": "stdout"
        }
      ]
    },
    {
      "cell_type": "markdown",
      "metadata": {
        "id": "2S7wm9UiW6w2"
      },
      "source": [
        "### การเรียกใช้ฟังก์ชั่น"
      ]
    },
    {
      "cell_type": "code",
      "metadata": {
        "colab": {
          "base_uri": "https://localhost:8080/",
          "height": 35
        },
        "id": "JWvU9OseXD5s",
        "outputId": "1109bc7d-8734-44e8-d115-35895a75203b"
      },
      "source": [
        "print_name('จิราพร','กลบรัตน์','623020762-6')"
      ],
      "execution_count": 17,
      "outputs": [
        {
          "output_type": "execute_result",
          "data": {
            "application/vnd.google.colaboratory.intrinsic+json": {
              "type": "string"
            },
            "text/plain": [
              "'ชื่อ จิราพร นามสกุล กลบรัตน์ ID 623020762-6'"
            ]
          },
          "metadata": {
            "tags": []
          },
          "execution_count": 17
        }
      ]
    },
    {
      "cell_type": "code",
      "metadata": {
        "colab": {
          "base_uri": "https://localhost:8080/"
        },
        "id": "cW7easkJXDjk",
        "outputId": "1f4ec9a4-1053-4b0a-8a1c-c0dbd1c0c4a4"
      },
      "source": [
        "output_string = print_name('จิราพร','กลบรัตน์','623020762-6')\r\n",
        "print(output_string)"
      ],
      "execution_count": 18,
      "outputs": [
        {
          "output_type": "stream",
          "text": [
            "ชื่อ จิราพร นามสกุล กลบรัตน์ ID 623020762-6\n"
          ],
          "name": "stdout"
        }
      ]
    },
    {
      "cell_type": "markdown",
      "metadata": {
        "id": "teRfxcDeXncf"
      },
      "source": [
        "ฟังก์ชั่นไม่จำเป็นต้องมี output"
      ]
    },
    {
      "cell_type": "code",
      "metadata": {
        "id": "LfnslznlXuNR"
      },
      "source": [
        "def print_name2(surname,ID,name):\r\n",
        "     st = f'ชื่อ {name} นามสกุล {surname} รหัส {ID}'\r\n",
        "     print(st)"
      ],
      "execution_count": 19,
      "outputs": []
    },
    {
      "cell_type": "code",
      "metadata": {
        "colab": {
          "base_uri": "https://localhost:8080/"
        },
        "id": "CTa_q-v6YPPV",
        "outputId": "63919916-57ac-49dd-82b4-ba5821f364a1"
      },
      "source": [
        "print_name2('จิราพร', 'กลบรัตน์', '623020762-6')"
      ],
      "execution_count": 20,
      "outputs": [
        {
          "output_type": "stream",
          "text": [
            "ชื่อ 623020762-6 นามสกุล จิราพร รหัส กลบรัตน์\n"
          ],
          "name": "stdout"
        }
      ]
    },
    {
      "cell_type": "code",
      "metadata": {
        "colab": {
          "base_uri": "https://localhost:8080/"
        },
        "id": "SukWPcdvYqo0",
        "outputId": "cca6d061-fa6c-4ba7-ff8d-10ad58b2f2f4"
      },
      "source": [
        "op2 = print_name2('จิราพร', 'กลบรัตน์', '623020762-6')"
      ],
      "execution_count": 21,
      "outputs": [
        {
          "output_type": "stream",
          "text": [
            "ชื่อ 623020762-6 นามสกุล จิราพร รหัส กลบรัตน์\n"
          ],
          "name": "stdout"
        }
      ]
    },
    {
      "cell_type": "code",
      "metadata": {
        "colab": {
          "base_uri": "https://localhost:8080/"
        },
        "id": "HF_jlji0Y3c7",
        "outputId": "1e028ded-855c-439d-807f-e9040eb25bd1"
      },
      "source": [
        "print(op2)"
      ],
      "execution_count": 22,
      "outputs": [
        {
          "output_type": "stream",
          "text": [
            "None\n"
          ],
          "name": "stdout"
        }
      ]
    },
    {
      "cell_type": "markdown",
      "metadata": {
        "id": "43AZKcGMZE-v"
      },
      "source": [
        "ฟังก์ชั่นไม่จำเป็นต้องมี input "
      ]
    },
    {
      "cell_type": "code",
      "metadata": {
        "id": "6jsPoVtFZEpC"
      },
      "source": [
        "def Pi():\r\n",
        "      return 3.14159265359"
      ],
      "execution_count": 23,
      "outputs": []
    },
    {
      "cell_type": "code",
      "metadata": {
        "colab": {
          "base_uri": "https://localhost:8080/"
        },
        "id": "9K0xa7KuY9ej",
        "outputId": "b98f4bc4-b295-4a77-e5fc-d5455a61b49a"
      },
      "source": [
        "#คำนวณพื้นที่วงกลมที่มีขนาดเส้นผ่านศูนย์กลางเท่ากับ 3\r\n",
        "Pi()*(1.5**2)"
      ],
      "execution_count": 24,
      "outputs": [
        {
          "output_type": "execute_result",
          "data": {
            "text/plain": [
              "7.0685834705775"
            ]
          },
          "metadata": {
            "tags": []
          },
          "execution_count": 24
        }
      ]
    },
    {
      "cell_type": "code",
      "metadata": {
        "id": "gP5-Z39_ZvPO"
      },
      "source": [
        "def print_my_name():\r\n",
        "      print('จิราพร กลบรัตน์ ID623020762-6')"
      ],
      "execution_count": 25,
      "outputs": []
    },
    {
      "cell_type": "code",
      "metadata": {
        "colab": {
          "base_uri": "https://localhost:8080/"
        },
        "id": "GljLFa7UaA3_",
        "outputId": "e3c435b9-c624-47a4-cb96-05729325675a"
      },
      "source": [
        "print_my_name()"
      ],
      "execution_count": 26,
      "outputs": [
        {
          "output_type": "stream",
          "text": [
            "จิราพร กลบรัตน์ ID623020762-6\n"
          ],
          "name": "stdout"
        }
      ]
    },
    {
      "cell_type": "markdown",
      "metadata": {
        "id": "mPVySmkTaHPc"
      },
      "source": [
        "### input ของ function ใน python มีสองแบบ input ที่จำเป็นต้องใส่ กับ input  ที่ไม่จำเป็นต้องใส่ (มีค่า default) เราต้องเรียง input ที่จำเป็นต้องใส่ขึ้นก่อน"
      ]
    },
    {
      "cell_type": "code",
      "metadata": {
        "id": "hgdrei6yaxof"
      },
      "source": [
        "def print_2lines_default(name, surname, ID, grade='F'):\r\n",
        "      st = f'ชื่อ {name} นามสกุล {surname} รหัส {ID}'\r\n",
        "      print(st)\r\n",
        "      st2=f'เกรดวิชา Multivariate >>> {grade}'\r\n",
        "      print(st2)"
      ],
      "execution_count": 31,
      "outputs": []
    },
    {
      "cell_type": "code",
      "metadata": {
        "colab": {
          "base_uri": "https://localhost:8080/"
        },
        "id": "9D-KDGmccBdY",
        "outputId": "99e7343e-255b-4c18-b956-3fa1d34523fa"
      },
      "source": [
        "print_2lines_default('จิราพร', 'กลบรัตน์', '623020762-6')"
      ],
      "execution_count": 32,
      "outputs": [
        {
          "output_type": "stream",
          "text": [
            "ชื่อ จิราพร นามสกุล กลบรัตน์ รหัส 623020762-6\n",
            "เกรดวิชา Multivariate >>> F\n"
          ],
          "name": "stdout"
        }
      ]
    },
    {
      "cell_type": "code",
      "metadata": {
        "colab": {
          "base_uri": "https://localhost:8080/"
        },
        "id": "GU695Y66cdWr",
        "outputId": "7e100aec-efc2-4275-8cfc-aae72d998278"
      },
      "source": [
        "print_2lines_default('จิราพร', 'กลบรัตน์', '623020762-6', 'A')"
      ],
      "execution_count": 29,
      "outputs": [
        {
          "output_type": "stream",
          "text": [
            "ชื่อ จิราพร นามสกุล กลบรัตน์ รหัส 623020762-6\n",
            "เกรดวิชา Multivariate >>> A\n"
          ],
          "name": "stdout"
        }
      ]
    },
    {
      "cell_type": "markdown",
      "metadata": {
        "id": "XzgFPGIxcckX"
      },
      "source": [
        "เราสามารถเรียกฟังก์ชั่นโดยใช้ชื่อตัวแปรของฟังก์ชั่นช่วยได้"
      ]
    },
    {
      "cell_type": "code",
      "metadata": {
        "colab": {
          "base_uri": "https://localhost:8080/"
        },
        "id": "6UaucpckdAY8",
        "outputId": "73d24abc-110b-495b-c1ac-f7fe62e2edf4"
      },
      "source": [
        "print_name2(name='จิราพร', surname='กลบรัตน์', ID='623020762-6')"
      ],
      "execution_count": 30,
      "outputs": [
        {
          "output_type": "stream",
          "text": [
            "ชื่อ จิราพร นามสกุล กลบรัตน์ รหัส 623020762-6\n"
          ],
          "name": "stdout"
        }
      ]
    },
    {
      "cell_type": "markdown",
      "metadata": {
        "id": "E0P0CSGfdT4l"
      },
      "source": [
        "HW ให้เขียน function คำนวณจำนวนวินาทีจาก เวลาต่อไปนี้ได้\r\n",
        "\r\n",
        "'14-15-31'\r\n",
        "\r\n",
        "'13-00-01'\r\n",
        "\r\n",
        "'05-49-44'\r\n",
        "\r\n",
        "'00-00-16'\r\n",
        "\r\n",
        "และ print ให้สวยงาม"
      ]
    },
    {
      "cell_type": "code",
      "metadata": {
        "id": "uwWWZkLTBLTi"
      },
      "source": [
        "def  function_q (times):\r\n",
        "      q = f'เวลา {times}'\r\n",
        "      print(q)\r\n",
        "      times_sp = times.split('-')\r\n",
        "      answer = int (times_sp[0])*3600 + int (times_sp[1])*60 + int (times_sp[2])\r\n",
        "      print(f'คำนวณเป็นจำนวนวินาทีได้เท่ากับ {answer} วินาที ')"
      ],
      "execution_count": 42,
      "outputs": []
    },
    {
      "cell_type": "code",
      "metadata": {
        "id": "CCwVsU53Fe2H",
        "outputId": "bf9ecb06-8299-4cd7-8e3f-4ece9ed7569a",
        "colab": {
          "base_uri": "https://localhost:8080/"
        }
      },
      "source": [
        "function_q ( '14-15-13' )"
      ],
      "execution_count": 43,
      "outputs": [
        {
          "output_type": "stream",
          "text": [
            "เวลา 14-15-13\n",
            "คำนวณเป็นจำนวนวินาทีได้เท่ากับ 51313 วินาที \n"
          ],
          "name": "stdout"
        }
      ]
    },
    {
      "cell_type": "code",
      "metadata": {
        "id": "tV_FEKmCGy7o",
        "outputId": "349a5089-8451-4279-ac89-989ef13da226",
        "colab": {
          "base_uri": "https://localhost:8080/"
        }
      },
      "source": [
        "function_q( '13-00-01' )"
      ],
      "execution_count": 44,
      "outputs": [
        {
          "output_type": "stream",
          "text": [
            "เวลา 13-00-01\n",
            "คำนวณเป็นจำนวนวินาทีได้เท่ากับ 46801 วินาที \n"
          ],
          "name": "stdout"
        }
      ]
    },
    {
      "cell_type": "code",
      "metadata": {
        "id": "8uf5rezcHBMY",
        "outputId": "a6b9e829-3d3c-492d-a5c2-9bd2f1e761ab",
        "colab": {
          "base_uri": "https://localhost:8080/"
        }
      },
      "source": [
        "function_q( '05-49-44' )"
      ],
      "execution_count": 45,
      "outputs": [
        {
          "output_type": "stream",
          "text": [
            "เวลา 05-49-44\n",
            "คำนวณเป็นจำนวนวินาทีได้เท่ากับ 20984 วินาที \n"
          ],
          "name": "stdout"
        }
      ]
    },
    {
      "cell_type": "code",
      "metadata": {
        "id": "-Gs7BxsvHDB_",
        "outputId": "a297f253-0707-4db1-f89c-06cde3b1a9c1",
        "colab": {
          "base_uri": "https://localhost:8080/"
        }
      },
      "source": [
        "function_q( '00-00-16' )"
      ],
      "execution_count": 46,
      "outputs": [
        {
          "output_type": "stream",
          "text": [
            "เวลา 00-00-16\n",
            "คำนวณเป็นจำนวนวินาทีได้เท่ากับ 16 วินาที \n"
          ],
          "name": "stdout"
        }
      ]
    }
  ]
}