{
  "nbformat": 4,
  "nbformat_minor": 0,
  "metadata": {
    "colab": {
      "name": "Function_Numpy_Pandas.ipynb",
      "provenance": [],
      "authorship_tag": "ABX9TyMH+1iPt8eMJCuZmxQbuWMy",
      "include_colab_link": true
    },
    "kernelspec": {
      "name": "python3",
      "display_name": "Python 3"
    }
  },
  "cells": [
    {
      "cell_type": "markdown",
      "metadata": {
        "id": "view-in-github",
        "colab_type": "text"
      },
      "source": [
        "<a href=\"https://colab.research.google.com/github/Jiraporn-klobrat/multivariate-/blob/main/Function_Numpy_Pandas.ipynb\" target=\"_parent\"><img src=\"https://colab.research.google.com/assets/colab-badge.svg\" alt=\"Open In Colab\"/></a>"
      ]
    },
    {
      "cell_type": "markdown",
      "metadata": {
        "id": "Rxcknq__SnVl"
      },
      "source": [
        "#Function"
      ]
    },
    {
      "cell_type": "markdown",
      "metadata": {
        "id": "qvYP8PSXSsUj"
      },
      "source": [
        "เอารูปมาใส่"
      ]
    },
    {
      "cell_type": "markdown",
      "metadata": {
        "id": "YgLw7TnvS6_p"
      },
      "source": [
        "```python\r\n",
        "def function_name(_Input_):\r\n",
        "     do_something with _Input_ to produce _Output_\r\n",
        "     return _Output_\r\n",
        "     "
      ]
    },
    {
      "cell_type": "markdown",
      "metadata": {
        "id": "I8keo4eMUfzA"
      },
      "source": [
        "function มีส่วนสำคัญทั้งหมด 4 ส่วน\r\n",
        "\r\n",
        "    1. บอก python ว่าเราจะเขียนฟังก์ชั่น ชื่ออะไร def function_name(): (ขาดไม่ได้) \r\n",
        "    2. กำหนดตัวแปรที่จะเป็น input Input (ขาดไม่ได้)\r\n",
        "    3. ส่วนประมวลผล do_something with Input to get Output (ขาดไม่ได้)\r\n",
        "    4. ส่วน output return Output (ขาดไม่ได้)"
      ]
    },
    {
      "cell_type": "markdown",
      "metadata": {
        "id": "NyKh_4DeWPN0"
      },
      "source": [
        "### สร้างฟังก์ชั่น"
      ]
    },
    {
      "cell_type": "code",
      "metadata": {
        "colab": {
          "base_uri": "https://localhost:8080/"
        },
        "id": "DI5iKEQ2SWKd",
        "outputId": "1a0aaeee-4bad-413d-aad1-a9cfd96bb896"
      },
      "source": [
        "def print_name(name,surname,ID):\r\n",
        "     st = f'ชื่อ {name} นามสกุล {surname} ID {ID}'\r\n",
        "     return st\r\n",
        "print('outside function')"
      ],
      "execution_count": 1,
      "outputs": [
        {
          "output_type": "stream",
          "text": [
            "outside function\n"
          ],
          "name": "stdout"
        }
      ]
    },
    {
      "cell_type": "markdown",
      "metadata": {
        "id": "2S7wm9UiW6w2"
      },
      "source": [
        "### การเรียกใช้ฟังก์ชั่น"
      ]
    },
    {
      "cell_type": "code",
      "metadata": {
        "colab": {
          "base_uri": "https://localhost:8080/",
          "height": 35
        },
        "id": "JWvU9OseXD5s",
        "outputId": "5414aede-ace0-4cd3-e622-3ee3345ff6c8"
      },
      "source": [
        "print_name('จิราพร','กลบรัตน์','623020762-6')"
      ],
      "execution_count": 2,
      "outputs": [
        {
          "output_type": "execute_result",
          "data": {
            "application/vnd.google.colaboratory.intrinsic+json": {
              "type": "string"
            },
            "text/plain": [
              "'ชื่อ จิราพร นามสกุล กลบรัตน์ ID 623020762-6'"
            ]
          },
          "metadata": {
            "tags": []
          },
          "execution_count": 2
        }
      ]
    },
    {
      "cell_type": "code",
      "metadata": {
        "colab": {
          "base_uri": "https://localhost:8080/"
        },
        "id": "cW7easkJXDjk",
        "outputId": "ce646c1f-1fe5-4836-89c9-6dd626847722"
      },
      "source": [
        "output_string = print_name('จิราพร','กลบรัตน์','623020762-6')\r\n",
        "print(output_string)"
      ],
      "execution_count": 3,
      "outputs": [
        {
          "output_type": "stream",
          "text": [
            "ชื่อ จิราพร นามสกุล กลบรัตน์ ID 623020762-6\n"
          ],
          "name": "stdout"
        }
      ]
    },
    {
      "cell_type": "markdown",
      "metadata": {
        "id": "teRfxcDeXncf"
      },
      "source": [
        "ฟังก์ชั่นไม่จำเป็นต้องมี output"
      ]
    },
    {
      "cell_type": "code",
      "metadata": {
        "id": "LfnslznlXuNR"
      },
      "source": [
        "def print_name2(surname,ID,name):\r\n",
        "     st = f'ชื่อ {name} นามสกุล {surname} รหัส {ID}'\r\n",
        "     print(st)"
      ],
      "execution_count": 6,
      "outputs": []
    },
    {
      "cell_type": "code",
      "metadata": {
        "colab": {
          "base_uri": "https://localhost:8080/"
        },
        "id": "CTa_q-v6YPPV",
        "outputId": "518d96ec-10ca-4b4e-adcc-110bf82f08eb"
      },
      "source": [
        "print_name2('จิราพร', 'กลบรัตน์', '623020762-6')"
      ],
      "execution_count": 7,
      "outputs": [
        {
          "output_type": "stream",
          "text": [
            "ชื่อ 623020762-6 นามสกุล จิราพร รหัส กลบรัตน์\n"
          ],
          "name": "stdout"
        }
      ]
    },
    {
      "cell_type": "code",
      "metadata": {
        "colab": {
          "base_uri": "https://localhost:8080/"
        },
        "id": "SukWPcdvYqo0",
        "outputId": "ba51e169-2e2b-49e1-c028-ae2c05032d2d"
      },
      "source": [
        "op2 = print_name2('จิราพร', 'กลบรัตน์', '623020762-6')"
      ],
      "execution_count": 8,
      "outputs": [
        {
          "output_type": "stream",
          "text": [
            "ชื่อ 623020762-6 นามสกุล จิราพร รหัส กลบรัตน์\n"
          ],
          "name": "stdout"
        }
      ]
    },
    {
      "cell_type": "code",
      "metadata": {
        "colab": {
          "base_uri": "https://localhost:8080/"
        },
        "id": "HF_jlji0Y3c7",
        "outputId": "260e93f8-e92a-4829-8edd-3c556cab0ab8"
      },
      "source": [
        "print(op2)"
      ],
      "execution_count": 9,
      "outputs": [
        {
          "output_type": "stream",
          "text": [
            "None\n"
          ],
          "name": "stdout"
        }
      ]
    },
    {
      "cell_type": "markdown",
      "metadata": {
        "id": "43AZKcGMZE-v"
      },
      "source": [
        "ฟังก์ชั่นไม่จำเป็นต้องมี input "
      ]
    },
    {
      "cell_type": "code",
      "metadata": {
        "id": "6jsPoVtFZEpC"
      },
      "source": [
        "def Pi():\r\n",
        "      return 3.14159265359"
      ],
      "execution_count": 10,
      "outputs": []
    },
    {
      "cell_type": "code",
      "metadata": {
        "colab": {
          "base_uri": "https://localhost:8080/"
        },
        "id": "9K0xa7KuY9ej",
        "outputId": "cce4cb9a-88e3-4ea9-d351-3136071772b6"
      },
      "source": [
        "#คำนวณพื้นที่วงกลมที่มีขนาดเส้นผ่านศูนย์กลางเท่ากับ 3\r\n",
        "Pi()*(1.5**2)"
      ],
      "execution_count": 11,
      "outputs": [
        {
          "output_type": "execute_result",
          "data": {
            "text/plain": [
              "7.0685834705775"
            ]
          },
          "metadata": {
            "tags": []
          },
          "execution_count": 11
        }
      ]
    },
    {
      "cell_type": "code",
      "metadata": {
        "id": "gP5-Z39_ZvPO"
      },
      "source": [
        "def print_my_name():\r\n",
        "      print('จิราพร กลบรัตน์ ID623020762-6')"
      ],
      "execution_count": 12,
      "outputs": []
    },
    {
      "cell_type": "code",
      "metadata": {
        "colab": {
          "base_uri": "https://localhost:8080/"
        },
        "id": "GljLFa7UaA3_",
        "outputId": "8b9f9872-ddcc-4dcf-c358-0d27aee053c5"
      },
      "source": [
        "print_my_name()"
      ],
      "execution_count": 13,
      "outputs": [
        {
          "output_type": "stream",
          "text": [
            "จิราพร กลบรัตน์ ID623020762-6\n"
          ],
          "name": "stdout"
        }
      ]
    },
    {
      "cell_type": "markdown",
      "metadata": {
        "id": "mPVySmkTaHPc"
      },
      "source": [
        "### input ของ function ใน python มีสองแบบ input ที่จำเป็นต้องใส่ กับ input  ที่ไม่จำเป็นต้องใส่ (มีค่า default) เราต้องเรียง input ที่จำเป็นต้องใส่ขึ้นก่อน"
      ]
    },
    {
      "cell_type": "code",
      "metadata": {
        "id": "hgdrei6yaxof"
      },
      "source": [
        "def print_2lines_default(name, surname, ID, grade='F'):\r\n",
        "      st = f'ชื่อ {name} นามสกุล {surname} รหัส {ID}'\r\n",
        "      print(st)\r\n",
        "      st2=f'เกรดวิชา Multivariate >>> {grade}'\r\n",
        "      print(st2)"
      ],
      "execution_count": 15,
      "outputs": []
    },
    {
      "cell_type": "code",
      "metadata": {
        "colab": {
          "base_uri": "https://localhost:8080/"
        },
        "id": "9D-KDGmccBdY",
        "outputId": "93f1439e-2b18-4582-bb86-ce29e2924273"
      },
      "source": [
        "print_2lines_default('จิราพร', 'กลบรัตน์', '623020762-6')"
      ],
      "execution_count": 16,
      "outputs": [
        {
          "output_type": "stream",
          "text": [
            "ชื่อ จิราพร นามสกุล กลบรัตน์ รหัส 623020762-6\n",
            "เกรดวิชา Multivariate >>> F\n"
          ],
          "name": "stdout"
        }
      ]
    },
    {
      "cell_type": "code",
      "metadata": {
        "colab": {
          "base_uri": "https://localhost:8080/"
        },
        "id": "GU695Y66cdWr",
        "outputId": "831c0cb3-7068-4e8b-e0a8-144286d3171e"
      },
      "source": [
        "print_2lines_default('จิราพร', 'กลบรัตน์', '623020762-6', 'A')"
      ],
      "execution_count": 17,
      "outputs": [
        {
          "output_type": "stream",
          "text": [
            "ชื่อ จิราพร นามสกุล กลบรัตน์ รหัส 623020762-6\n",
            "เกรดวิชา Multivariate >>> A\n"
          ],
          "name": "stdout"
        }
      ]
    },
    {
      "cell_type": "markdown",
      "metadata": {
        "id": "XzgFPGIxcckX"
      },
      "source": [
        "เราสามารถเรียกฟังก์ชั่นโดยใช้ชื่อตัวแปรของฟังก์ชั่นช่วยได้"
      ]
    },
    {
      "cell_type": "code",
      "metadata": {
        "colab": {
          "base_uri": "https://localhost:8080/"
        },
        "id": "6UaucpckdAY8",
        "outputId": "96f0831d-8e20-48b1-b0ef-ed6161daec5b"
      },
      "source": [
        "print_name2(name='จิราพร', surname='กลบรัตน์', ID='623020762-6')"
      ],
      "execution_count": 18,
      "outputs": [
        {
          "output_type": "stream",
          "text": [
            "ชื่อ จิราพร นามสกุล กลบรัตน์ รหัส 623020762-6\n"
          ],
          "name": "stdout"
        }
      ]
    },
    {
      "cell_type": "markdown",
      "metadata": {
        "id": "E0P0CSGfdT4l"
      },
      "source": [
        "HW ให้เขียน function คำนวณจำนวนวินาทีจาก เวลาต่อไปนี้ได้\r\n",
        "\r\n",
        "'14-15-31'\r\n",
        "\r\n",
        "'13-00-01'\r\n",
        "\r\n",
        "'05-49-44'\r\n",
        "\r\n",
        "'00-00-16'\r\n",
        "\r\n",
        "และ print ให้สวยงาม"
      ]
    }
  ]
}