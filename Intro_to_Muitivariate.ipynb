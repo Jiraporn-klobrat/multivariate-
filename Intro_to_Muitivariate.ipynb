{
  "nbformat": 4,
  "nbformat_minor": 0,
  "metadata": {
    "colab": {
      "name": "Intro to Muitivariate.ipynb",
      "provenance": [],
      "authorship_tag": "ABX9TyNjduAFD3sq9N+mn9QvX7y4",
      "include_colab_link": true
    },
    "kernelspec": {
      "name": "python3",
      "display_name": "Python 3"
    }
  },
  "cells": [
    {
      "cell_type": "markdown",
      "metadata": {
        "id": "view-in-github",
        "colab_type": "text"
      },
      "source": [
        "<a href=\"https://colab.research.google.com/github/Jiraporn-klobrat/multivariate-/blob/main/Intro_to_Muitivariate.ipynb\" target=\"_parent\"><img src=\"https://colab.research.google.com/assets/colab-badge.svg\" alt=\"Open In Colab\"/></a>"
      ]
    },
    {
      "cell_type": "markdown",
      "metadata": {
        "id": "v-1qMq3dkUlb"
      },
      "source": [
        "จิราพร กลบรัตน์    ID 623020762-6"
      ]
    },
    {
      "cell_type": "code",
      "metadata": {
        "colab": {
          "base_uri": "https://localhost:8080/"
        },
        "id": "uwnUDcTxkcKD",
        "outputId": "e8ae8239-d10f-400b-a500-28adfb5947b4"
      },
      "source": [
        "print('จิราพร') #single quote (') ใช้ล้อมข้อความ"
      ],
      "execution_count": 1,
      "outputs": [
        {
          "output_type": "stream",
          "text": [
            "จิราพร\n"
          ],
          "name": "stdout"
        }
      ]
    }
  ]
}