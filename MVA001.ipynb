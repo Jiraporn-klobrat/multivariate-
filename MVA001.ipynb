{
  "nbformat": 4,
  "nbformat_minor": 0,
  "metadata": {
    "colab": {
      "name": "MVA001.ipynb",
      "provenance": [],
      "authorship_tag": "ABX9TyNSbmH40zhZCzQLuAmsL8eA",
      "include_colab_link": true
    },
    "kernelspec": {
      "name": "python3",
      "display_name": "Python 3"
    }
  },
  "cells": [
    {
      "cell_type": "markdown",
      "metadata": {
        "id": "view-in-github",
        "colab_type": "text"
      },
      "source": [
        "<a href=\"https://colab.research.google.com/github/Jiraporn-klobrat/multivariate-/blob/main/MVA001.ipynb\" target=\"_parent\"><img src=\"https://colab.research.google.com/assets/colab-badge.svg\" alt=\"Open In Colab\"/></a>"
      ]
    },
    {
      "cell_type": "markdown",
      "metadata": {
        "id": "egsx_IE4Tqdy"
      },
      "source": [
        "Scalar,Vector,Matrix"
      ]
    },
    {
      "cell_type": "markdown",
      "metadata": {
        "id": "tT5uu2RFaRSh"
      },
      "source": [
        "# Scalar"
      ]
    },
    {
      "cell_type": "code",
      "metadata": {
        "id": "oFZX6YnfS02V"
      },
      "source": [
        " import numpy as np"
      ],
      "execution_count": 18,
      "outputs": []
    },
    {
      "cell_type": "code",
      "metadata": {
        "colab": {
          "base_uri": "https://localhost:8080/"
        },
        "id": "5Np_jQgfUEUE",
        "outputId": "715ffd80-500c-422c-c4bd-a71e15d493ba"
      },
      "source": [
        "scalar_a = 10    #scalar\r\n",
        "print(scalar_a)"
      ],
      "execution_count": 19,
      "outputs": [
        {
          "output_type": "stream",
          "text": [
            "10\n"
          ],
          "name": "stdout"
        }
      ]
    },
    {
      "cell_type": "markdown",
      "metadata": {
        "id": "qDHDX2oGY7XF"
      },
      "source": [
        "# Vector"
      ]
    },
    {
      "cell_type": "markdown",
      "metadata": {
        "id": "Q6cSQupLY_7x"
      },
      "source": [
        "ใส่รูป"
      ]
    },
    {
      "cell_type": "code",
      "metadata": {
        "colab": {
          "base_uri": "https://localhost:8080/"
        },
        "id": "SgQLo-XnUVmV",
        "outputId": "7ad2f190-a92e-4173-e138-7258c5423bcf"
      },
      "source": [
        "vector_b = np.zeros([2,1])    #vector\r\n",
        "vector_b[0,0] = 1\r\n",
        "vector_b[1,0] = 3\r\n",
        "print(vector_b)\r\n",
        "print(vector_b.shape)"
      ],
      "execution_count": 20,
      "outputs": [
        {
          "output_type": "stream",
          "text": [
            "[[1.]\n",
            " [3.]]\n",
            "(2, 1)\n"
          ],
          "name": "stdout"
        }
      ]
    },
    {
      "cell_type": "code",
      "metadata": {
        "colab": {
          "base_uri": "https://localhost:8080/"
        },
        "id": "itzrjHZKWPaT",
        "outputId": "4a3a2195-2844-4078-98ac-33241f5dfff1"
      },
      "source": [
        "vector_c = np.array([[1],[3]])\r\n",
        "print(vector_c)\r\n",
        "print(vector_c.shape)"
      ],
      "execution_count": 21,
      "outputs": [
        {
          "output_type": "stream",
          "text": [
            "[[1]\n",
            " [3]]\n",
            "(2, 1)\n"
          ],
          "name": "stdout"
        }
      ]
    },
    {
      "cell_type": "code",
      "metadata": {
        "id": "S91C1PVoVJ2w"
      },
      "source": [
        "from matplotlib import pyplot as plt"
      ],
      "execution_count": 22,
      "outputs": []
    },
    {
      "cell_type": "code",
      "metadata": {
        "colab": {
          "base_uri": "https://localhost:8080/",
          "height": 282
        },
        "id": "BkIfk6KZVWct",
        "outputId": "01ed7663-4731-45f6-de94-969977eb9e46"
      },
      "source": [
        "plt.plot(vector_b[0,0],vector_b[1,0],'or')"
      ],
      "execution_count": 23,
      "outputs": [
        {
          "output_type": "execute_result",
          "data": {
            "text/plain": [
              "[<matplotlib.lines.Line2D at 0x7fef72923c88>]"
            ]
          },
          "metadata": {
            "tags": []
          },
          "execution_count": 23
        },
        {
          "output_type": "display_data",
          "data": {
            "image/png": "[encoded data removed]",
            "text/plain": [
              "<Figure size 432x288 with 1 Axes>"
            ]
          },
          "metadata": {
            "tags": [],
            "needs_background": "light"
          }
        }
      ]
    },
    {
      "cell_type": "markdown",
      "metadata": {
        "id": "j1O-CPP3X5ax"
      },
      "source": [
        "ขนาดของ vector คำนวณได้โดย พิทากอรัส"
      ]
    },
    {
      "cell_type": "code",
      "metadata": {
        "colab": {
          "base_uri": "https://localhost:8080/"
        },
        "id": "JyONjfeRYIpq",
        "outputId": "342b8615-de24-46f0-c32b-d1cf5dfea61b"
      },
      "source": [
        "vector_b_size = ((vector_b[0,0]**2) + (vector_b[1,0]**2))**0.5\r\n",
        "print(vector_b_size)"
      ],
      "execution_count": 24,
      "outputs": [
        {
          "output_type": "stream",
          "text": [
            "3.1622776601683795\n"
          ],
          "name": "stdout"
        }
      ]
    },
    {
      "cell_type": "markdown",
      "metadata": {
        "id": "gYegrOvbZab1"
      },
      "source": [
        "# Matrix"
      ]
    },
    {
      "cell_type": "markdown",
      "metadata": {
        "id": "LXRGx8rxZaH-"
      },
      "source": [
        "ใส่รูป"
      ]
    },
    {
      "cell_type": "code",
      "metadata": {
        "colab": {
          "base_uri": "https://localhost:8080/"
        },
        "id": "hgqwaNJ2ZbGi",
        "outputId": "ea03d3c4-1bcc-4ae6-cb81-d313b8951183"
      },
      "source": [
        "matrix_d = np.array([[2,3],[1,4],[-1,1]])\r\n",
        "print(matrix_d)"
      ],
      "execution_count": 25,
      "outputs": [
        {
          "output_type": "stream",
          "text": [
            "[[ 2  3]\n",
            " [ 1  4]\n",
            " [-1  1]]\n"
          ],
          "name": "stdout"
        }
      ]
    },
    {
      "cell_type": "code",
      "metadata": {
        "colab": {
          "base_uri": "https://localhost:8080/"
        },
        "id": "oLrYObbqZ8f3",
        "outputId": "0fd17067-45c1-4151-94ce-c00938f9eeb1"
      },
      "source": [
        "matrix_d = matrix_d.T\r\n",
        "print(matrix_d)"
      ],
      "execution_count": 26,
      "outputs": [
        {
          "output_type": "stream",
          "text": [
            "[[ 2  1 -1]\n",
            " [ 3  4  1]]\n"
          ],
          "name": "stdout"
        }
      ]
    },
    {
      "cell_type": "code",
      "metadata": {
        "colab": {
          "base_uri": "https://localhost:8080/",
          "height": 282
        },
        "id": "9Qaw43NBaiv6",
        "outputId": "7d262951-cda3-4dbf-c1d0-a7c0baa935ca"
      },
      "source": [
        "plt.plot(matrix_d[0,:],matrix_d[1,:], 'or')    ## plot(ค่าx, ค่าy, หน้าตาของจุด)\r\n",
        "plt.plot(0,0, '.b')     ## plot(ค่าx, ค่าy, หน้าตาของจุด)\r\n",
        "plt.plot([0,0],[-1,5], ':k')\r\n",
        "plt.plot([-1.5,2.5],[0,0], ':k')"
      ],
      "execution_count": 27,
      "outputs": [
        {
          "output_type": "execute_result",
          "data": {
            "text/plain": [
              "[<matplotlib.lines.Line2D at 0x7fef72905c50>]"
            ]
          },
          "metadata": {
            "tags": []
          },
          "execution_count": 27
        },
        {
          "output_type": "display_data",
          "data": {
            "image/png": "[encoded data removed]",
            "text/plain": [
              "<Figure size 432x288 with 1 Axes>"
            ]
          },
          "metadata": {
            "tags": [],
            "needs_background": "light"
          }
        }
      ]
    },
    {
      "cell_type": "markdown",
      "metadata": {
        "id": "W141HakKj-HT"
      },
      "source": [
        "##Transpose"
      ]
    },
    {
      "cell_type": "code",
      "metadata": {
        "colab": {
          "base_uri": "https://localhost:8080/"
        },
        "id": "rFNl6ho_jrUz",
        "outputId": "a123ad08-7814-4f7f-d19d-bd5b7110d562"
      },
      "source": [
        "A = np.array([[3,-1,2],[1,5,4]])\r\n",
        "print(A)"
      ],
      "execution_count": 28,
      "outputs": [
        {
          "output_type": "stream",
          "text": [
            "[[ 3 -1  2]\n",
            " [ 1  5  4]]\n"
          ],
          "name": "stdout"
        }
      ]
    },
    {
      "cell_type": "code",
      "metadata": {
        "colab": {
          "base_uri": "https://localhost:8080/"
        },
        "id": "HpsSgIqilit5",
        "outputId": "8d52b3cc-6ca7-45bb-a192-a7feea23cb81"
      },
      "source": [
        "A.T"
      ],
      "execution_count": 29,
      "outputs": [
        {
          "output_type": "execute_result",
          "data": {
            "text/plain": [
              "array([[ 3,  1],\n",
              "       [-1,  5],\n",
              "       [ 2,  4]])"
            ]
          },
          "metadata": {
            "tags": []
          },
          "execution_count": 29
        }
      ]
    },
    {
      "cell_type": "markdown",
      "metadata": {
        "id": "KK4jyF3Rll_o"
      },
      "source": [
        "##Matrix Multiply"
      ]
    },
    {
      "cell_type": "markdown",
      "metadata": {
        "id": "WbpCpGTnmkSO"
      },
      "source": [
        ""
      ]
    },
    {
      "cell_type": "code",
      "metadata": {
        "colab": {
          "base_uri": "https://localhost:8080/"
        },
        "id": "zlEeAyCnlk6h",
        "outputId": "3a02bd90-6437-4f24-ab3f-8bac1258b747"
      },
      "source": [
        "B = np.dot(A,A.T)\r\n",
        "print(B)"
      ],
      "execution_count": 30,
      "outputs": [
        {
          "output_type": "stream",
          "text": [
            "[[14  6]\n",
            " [ 6 42]]\n"
          ],
          "name": "stdout"
        }
      ]
    },
    {
      "cell_type": "markdown",
      "metadata": {
        "id": "3AFZj-wEmnEy"
      },
      "source": [
        "## Determinant"
      ]
    },
    {
      "cell_type": "code",
      "metadata": {
        "colab": {
          "base_uri": "https://localhost:8080/"
        },
        "id": "i1pvLzO2mv_2",
        "outputId": "8e9d2f9c-f2a8-43ee-f950-0dbb48a2d2de"
      },
      "source": [
        "np.linalg.det(B)"
      ],
      "execution_count": 31,
      "outputs": [
        {
          "output_type": "execute_result",
          "data": {
            "text/plain": [
              "551.9999999999998"
            ]
          },
          "metadata": {
            "tags": []
          },
          "execution_count": 31
        }
      ]
    },
    {
      "cell_type": "markdown",
      "metadata": {
        "id": "66tnPNJ8szd8"
      },
      "source": [
        "linalg = linear algebra"
      ]
    },
    {
      "cell_type": "markdown",
      "metadata": {
        "id": "A3SZ8mextWa7"
      },
      "source": [
        "maltrix algebra เพิ่มเติม"
      ]
    },
    {
      "cell_type": "code",
      "metadata": {
        "colab": {
          "base_uri": "https://localhost:8080/",
          "height": 282
        },
        "id": "StmI_f95td0h",
        "outputId": "74e788d6-9632-43e1-cb67-bd01364c6ea8"
      },
      "source": [
        "plt.plot([0,1],[0,1], '-r' )    ## plot(ค่าx, ค่าy, หน้าตาของจุด)\r\n",
        "plt.plot(0,0, '.b' )\r\n",
        "plt.plot([0,0],[-1,5], '^:k' )\r\n",
        "plt.plot([-1.5,2.5],[0,0], '>:k' )"
      ],
      "execution_count": 34,
      "outputs": [
        {
          "output_type": "execute_result",
          "data": {
            "text/plain": [
              "[<matplotlib.lines.Line2D at 0x7fef727d3f28>]"
            ]
          },
          "metadata": {
            "tags": []
          },
          "execution_count": 34
        },
        {
          "output_type": "display_data",
          "data": {
            "image/png": "[encoded data removed]",
            "text/plain": [
              "<Figure size 432x288 with 1 Axes>"
            ]
          },
          "metadata": {
            "tags": [],
            "needs_background": "light"
          }
        }
      ]
    },
    {
      "cell_type": "code",
      "metadata": {
        "colab": {
          "base_uri": "https://localhost:8080/"
        },
        "id": "rA0DqGaivSYS",
        "outputId": "1e15981d-2ba7-43b9-bbab-f519d626d95e"
      },
      "source": [
        "B = np.array([[1,2],[3,4]])\r\n",
        "B"
      ],
      "execution_count": 35,
      "outputs": [
        {
          "output_type": "execute_result",
          "data": {
            "text/plain": [
              "array([[1, 2],\n",
              "       [3, 4]])"
            ]
          },
          "metadata": {
            "tags": []
          },
          "execution_count": 35
        }
      ]
    },
    {
      "cell_type": "markdown",
      "metadata": {
        "id": "JkjIVTzHzZsq"
      },
      "source": [
        ""
      ]
    },
    {
      "cell_type": "code",
      "metadata": {
        "colab": {
          "base_uri": "https://localhost:8080/"
        },
        "id": "AL_cU2Jvviak",
        "outputId": "7ffb9cc4-1573-48fc-9392-2f10596d9e52"
      },
      "source": [
        "Bv = np.dot(B,np.array([[1],[1]]))\r\n",
        "Bv"
      ],
      "execution_count": 36,
      "outputs": [
        {
          "output_type": "execute_result",
          "data": {
            "text/plain": [
              "array([[3],\n",
              "       [7]])"
            ]
          },
          "metadata": {
            "tags": []
          },
          "execution_count": 36
        }
      ]
    },
    {
      "cell_type": "code",
      "metadata": {
        "id": "aV0qo9sUwGMk"
      },
      "source": [
        "plt.plot([0,Bv[0,0]],[0,Bv[1,0]], '-g' )    ## vector Bv\r\n",
        "plt.plot([0,1],[0,1], '-r' )    ## vector [1,1]\r\n"
      ],
      "execution_count": null,
      "outputs": []
    },
    {
      "cell_type": "code",
      "metadata": {
        "id": "f7W_fWR4y1Ah"
      },
      "source": [
        "plt.plot([0,Bv[0,0]],[0,Bv[1,0]], '-g' )   ## vector Bv\r\n",
        "plt.plot([1,1],[1,0], ' :r' )    ##"
      ],
      "execution_count": null,
      "outputs": []
    },
    {
      "cell_type": "markdown",
      "metadata": {
        "id": "Iw2mj8sg1Rh4"
      },
      "source": [
        "Identity matrix ($I$)\r\n",
        "\r\n",
        "$BI = B = IB$\r\n"
      ]
    },
    {
      "cell_type": "code",
      "metadata": {
        "id": "KHl1sbAn15aY"
      },
      "source": [
        "iden2 = np.identity(2)"
      ],
      "execution_count": 37,
      "outputs": []
    },
    {
      "cell_type": "code",
      "metadata": {
        "colab": {
          "base_uri": "https://localhost:8080/"
        },
        "id": "UOlBpTBc2LhA",
        "outputId": "958b6cf6-c728-4873-8567-a6394287b32d"
      },
      "source": [
        "B"
      ],
      "execution_count": 38,
      "outputs": [
        {
          "output_type": "execute_result",
          "data": {
            "text/plain": [
              "array([[1, 2],\n",
              "       [3, 4]])"
            ]
          },
          "metadata": {
            "tags": []
          },
          "execution_count": 38
        }
      ]
    },
    {
      "cell_type": "code",
      "metadata": {
        "colab": {
          "base_uri": "https://localhost:8080/"
        },
        "id": "lPgJiutY1zrf",
        "outputId": "e1fcd063-7084-45cf-9e89-007bd042bed3"
      },
      "source": [
        "np.dot(B,iden2)"
      ],
      "execution_count": 39,
      "outputs": [
        {
          "output_type": "execute_result",
          "data": {
            "text/plain": [
              "array([[1., 2.],\n",
              "       [3., 4.]])"
            ]
          },
          "metadata": {
            "tags": []
          },
          "execution_count": 39
        }
      ]
    },
    {
      "cell_type": "code",
      "metadata": {
        "colab": {
          "base_uri": "https://localhost:8080/"
        },
        "id": "ALv4eYoe2Xfc",
        "outputId": "01f82776-7964-4745-bf66-75f80a2d21a1"
      },
      "source": [
        "np.dot(iden2,B)"
      ],
      "execution_count": 40,
      "outputs": [
        {
          "output_type": "execute_result",
          "data": {
            "text/plain": [
              "array([[1., 2.],\n",
              "       [3., 4.]])"
            ]
          },
          "metadata": {
            "tags": []
          },
          "execution_count": 40
        }
      ]
    },
    {
      "cell_type": "code",
      "metadata": {
        "colab": {
          "base_uri": "https://localhost:8080/"
        },
        "id": "Urx36jkk2eq5",
        "outputId": "0358b1b7-96db-4152-ac9b-b7d3474b4cdc"
      },
      "source": [
        "C = np.array([[-1,2],[2,4]])\r\n",
        "C"
      ],
      "execution_count": 41,
      "outputs": [
        {
          "output_type": "execute_result",
          "data": {
            "text/plain": [
              "array([[-1,  2],\n",
              "       [ 2,  4]])"
            ]
          },
          "metadata": {
            "tags": []
          },
          "execution_count": 41
        }
      ]
    },
    {
      "cell_type": "code",
      "metadata": {
        "colab": {
          "base_uri": "https://localhost:8080/"
        },
        "id": "qGVQH_Zf2xWQ",
        "outputId": "51643e81-97d5-4c5f-a9c0-4509a6bdfa4f"
      },
      "source": [
        "np.dot(B,C)"
      ],
      "execution_count": 42,
      "outputs": [
        {
          "output_type": "execute_result",
          "data": {
            "text/plain": [
              "array([[ 3, 10],\n",
              "       [ 5, 22]])"
            ]
          },
          "metadata": {
            "tags": []
          },
          "execution_count": 42
        }
      ]
    },
    {
      "cell_type": "markdown",
      "metadata": {
        "id": "JSLTkgty3441"
      },
      "source": [
        "การบ้านในห้อง"
      ]
    },
    {
      "cell_type": "code",
      "metadata": {
        "colab": {
          "base_uri": "https://localhost:8080/"
        },
        "id": "yvpFWpoI4tjw",
        "outputId": "ac903980-c85c-49b8-94cd-59290d72a00a"
      },
      "source": [
        "import numpy as np\r\n",
        "D = np.array([[3,1,6],[7,4,5],[2,-7,1]])\r\n",
        "print(D)"
      ],
      "execution_count": 46,
      "outputs": [
        {
          "output_type": "stream",
          "text": [
            "[[ 3  1  6]\n",
            " [ 7  4  5]\n",
            " [ 2 -7  1]]\n"
          ],
          "name": "stdout"
        }
      ]
    },
    {
      "cell_type": "code",
      "metadata": {
        "colab": {
          "base_uri": "https://localhost:8080/"
        },
        "id": "ySoMmnC66baw",
        "outputId": "6d2f82fa-8d83-43b1-ea40-39eb9261ba02"
      },
      "source": [
        "np.linalg.det(D)"
      ],
      "execution_count": 48,
      "outputs": [
        {
          "output_type": "execute_result",
          "data": {
            "text/plain": [
              "-221.99999999999997"
            ]
          },
          "metadata": {
            "tags": []
          },
          "execution_count": 48
        }
      ]
    }
  ]
}